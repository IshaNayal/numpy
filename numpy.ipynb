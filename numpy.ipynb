{
  "nbformat": 4,
  "nbformat_minor": 0,
  "metadata": {
    "colab": {
      "provenance": [],
      "authorship_tag": "ABX9TyMRICOhXnWmfhzGsHSkD1VH",
      "include_colab_link": true
    },
    "kernelspec": {
      "name": "python3",
      "display_name": "Python 3"
    },
    "language_info": {
      "name": "python"
    }
  },
  "cells": [
    {
      "cell_type": "markdown",
      "metadata": {
        "id": "view-in-github",
        "colab_type": "text"
      },
      "source": [
        "<a href=\"https://colab.research.google.com/github/IshaNayal/numpy/blob/main/numpy.ipynb\" target=\"_parent\"><img src=\"https://colab.research.google.com/assets/colab-badge.svg\" alt=\"Open In Colab\"/></a>"
      ]
    },
    {
      "cell_type": "code",
      "execution_count": 2,
      "metadata": {
        "colab": {
          "base_uri": "https://localhost:8080/"
        },
        "id": "W_KBGOMSAO04",
        "outputId": "88291bfd-0fc8-46ec-9fde-4a261b2f4201"
      },
      "outputs": [
        {
          "output_type": "stream",
          "name": "stdout",
          "text": [
            "1D array: [1 2 3 4 5]\n"
          ]
        }
      ],
      "source": [
        "import numpy as np\n",
        "\n",
        "arr_1d = np.array([1,2,3,4,5])\n",
        "print(\"1D array:\", arr_1d)"
      ]
    },
    {
      "cell_type": "code",
      "source": [
        "arr_2d = np.array([[1,2,3],[4,5,6]])\n",
        "print(\"2D array:\", arr_2d)"
      ],
      "metadata": {
        "colab": {
          "base_uri": "https://localhost:8080/"
        },
        "id": "VaQri9XQCIvb",
        "outputId": "3391511b-4bef-4480-909a-3e8bf0c11cb2"
      },
      "execution_count": 3,
      "outputs": [
        {
          "output_type": "stream",
          "name": "stdout",
          "text": [
            "2D array: [[1 2 3]\n",
            " [4 5 6]]\n"
          ]
        }
      ]
    },
    {
      "cell_type": "markdown",
      "source": [
        "list vs numpy array"
      ],
      "metadata": {
        "id": "ki9jhCdlCWIU"
      }
    },
    {
      "cell_type": "code",
      "source": [
        "py_list = [1,2,3]\n",
        "print(\"python list multiply\", py_list * 2)"
      ],
      "metadata": {
        "colab": {
          "base_uri": "https://localhost:8080/"
        },
        "id": "ymQE7lJKCYro",
        "outputId": "cd170c29-1ec2-435f-83ec-ef8be2072367"
      },
      "execution_count": 4,
      "outputs": [
        {
          "output_type": "stream",
          "name": "stdout",
          "text": [
            "python list multiply [1, 2, 3, 1, 2, 3]\n"
          ]
        }
      ]
    },
    {
      "cell_type": "code",
      "source": [
        "np_array = np.array([1,2,3]) #element wise multiplication\n",
        "print(\"python array multiply\", np_array * 2)"
      ],
      "metadata": {
        "colab": {
          "base_uri": "https://localhost:8080/"
        },
        "id": "Xfe-1vGeC5pa",
        "outputId": "d13de265-4aef-4f3a-9fa8-6d359c7b181d"
      },
      "execution_count": 6,
      "outputs": [
        {
          "output_type": "stream",
          "name": "stdout",
          "text": [
            "python array multiply [2 4 6]\n"
          ]
        }
      ]
    },
    {
      "cell_type": "code",
      "source": [
        "import time\n",
        "start = time.time()\n",
        "py_list = [i*2 for i in range(1000000)]\n",
        "print(\"\\n list operation time:\", time.time()-start)\n",
        "\n",
        "start = time.time()\n",
        "np_array = np.arange(1000000) * 2\n",
        "print(\"\\n numpy operation time:\" ,time.time() - start)"
      ],
      "metadata": {
        "colab": {
          "base_uri": "https://localhost:8080/"
        },
        "id": "PS9Nd83kDjNu",
        "outputId": "8c07b312-5cbf-4d87-e9f9-cc4b7108fdd8"
      },
      "execution_count": 10,
      "outputs": [
        {
          "output_type": "stream",
          "name": "stdout",
          "text": [
            "\n",
            " list operation time: 0.0713810920715332\n",
            "\n",
            " numpy operation time: 0.0068547725677490234\n"
          ]
        }
      ]
    },
    {
      "cell_type": "markdown",
      "source": [
        "creating array from scratch"
      ],
      "metadata": {
        "id": "6aKaDb7uE8vk"
      }
    },
    {
      "cell_type": "code",
      "source": [
        "zeros = np.zeros((3,4))\n",
        "print(\"zeros array: \\n\", zeros)"
      ],
      "metadata": {
        "colab": {
          "base_uri": "https://localhost:8080/"
        },
        "id": "wFjfnVatFB5d",
        "outputId": "3b2eb9a1-b244-4adb-ae5b-618a02b872db"
      },
      "execution_count": 11,
      "outputs": [
        {
          "output_type": "stream",
          "name": "stdout",
          "text": [
            "zeros array: \n",
            " [[0. 0. 0. 0.]\n",
            " [0. 0. 0. 0.]\n",
            " [0. 0. 0. 0.]]\n"
          ]
        }
      ]
    },
    {
      "cell_type": "code",
      "source": [
        "ones = np.ones((3,3))\n",
        "print(\"ones array: \\n\", ones)"
      ],
      "metadata": {
        "colab": {
          "base_uri": "https://localhost:8080/"
        },
        "id": "-6zRn8u_FZzZ",
        "outputId": "eb1cf0d9-2d88-4c68-ed6a-f6d996268e2a"
      },
      "execution_count": 13,
      "outputs": [
        {
          "output_type": "stream",
          "name": "stdout",
          "text": [
            "ones array: \n",
            " [[1. 1. 1.]\n",
            " [1. 1. 1.]\n",
            " [1. 1. 1.]]\n"
          ]
        }
      ]
    },
    {
      "cell_type": "code",
      "source": [
        "full = np.full((3,3), 5)\n",
        "print(\"full array: \\n\", full)"
      ],
      "metadata": {
        "colab": {
          "base_uri": "https://localhost:8080/"
        },
        "id": "oQpmi8BcFhsE",
        "outputId": "8a283c58-aa15-4b7e-882a-bd9ea50dc95b"
      },
      "execution_count": 14,
      "outputs": [
        {
          "output_type": "stream",
          "name": "stdout",
          "text": [
            "full array: \n",
            " [[5 5 5]\n",
            " [5 5 5]\n",
            " [5 5 5]]\n"
          ]
        }
      ]
    },
    {
      "cell_type": "code",
      "source": [
        "random = np.random.random((2,3))\n",
        "print(\"random array:\\n\", random)"
      ],
      "metadata": {
        "colab": {
          "base_uri": "https://localhost:8080/"
        },
        "id": "KW8qLGymFwbV",
        "outputId": "9d67ded1-dd2e-4f06-d691-faad96a53df4"
      },
      "execution_count": 15,
      "outputs": [
        {
          "output_type": "stream",
          "name": "stdout",
          "text": [
            "random array:\n",
            " [[0.03513784 0.98955179 0.29152584]\n",
            " [0.34891097 0.5401523  0.03894625]]\n"
          ]
        }
      ]
    },
    {
      "cell_type": "code",
      "source": [
        "sequence = np.arange(0,10,2)\n",
        "print(\"sequence array: \\n\", sequence)"
      ],
      "metadata": {
        "colab": {
          "base_uri": "https://localhost:8080/"
        },
        "id": "xxAmJOZ8GCQh",
        "outputId": "6a2385e1-95f3-4ccf-c164-c17de4a13f98"
      },
      "execution_count": 19,
      "outputs": [
        {
          "output_type": "stream",
          "name": "stdout",
          "text": [
            "sequence array: \n",
            " [0 2 4 6 8]\n"
          ]
        }
      ]
    },
    {
      "cell_type": "markdown",
      "source": [
        "Vector, Matrix and Tensor"
      ],
      "metadata": {
        "id": "QWbkmN8zGmDN"
      }
    },
    {
      "cell_type": "code",
      "source": [
        "vector = np.array([1,2,3])\n",
        "print(\"Vector:\", vector)"
      ],
      "metadata": {
        "colab": {
          "base_uri": "https://localhost:8080/"
        },
        "id": "voIPM5pXGtLX",
        "outputId": "945c98b4-7a26-44d4-9509-ffa446b4f747"
      },
      "execution_count": 20,
      "outputs": [
        {
          "output_type": "stream",
          "name": "stdout",
          "text": [
            "Vector: [1 2 3]\n"
          ]
        }
      ]
    },
    {
      "cell_type": "code",
      "source": [
        "matrix = np.array([[1,2,3],[4,5,6]])\n",
        "print(\"Matrix:\", matrix)"
      ],
      "metadata": {
        "colab": {
          "base_uri": "https://localhost:8080/"
        },
        "id": "cKv-ymMeHzLX",
        "outputId": "6c011540-21df-499f-b829-15d000802d5b"
      },
      "execution_count": 22,
      "outputs": [
        {
          "output_type": "stream",
          "name": "stdout",
          "text": [
            "Matrix: [[1 2 3]\n",
            " [4 5 6]]\n"
          ]
        }
      ]
    },
    {
      "cell_type": "code",
      "source": [
        "tensor = np.array([[[1,2],[3,4],[4,5]]])\n",
        "print(\"tensor:\", tensor)"
      ],
      "metadata": {
        "colab": {
          "base_uri": "https://localhost:8080/"
        },
        "id": "toyQ03DwIOLw",
        "outputId": "d2036974-f2a0-4f11-9212-8783ed7d884a"
      },
      "execution_count": 23,
      "outputs": [
        {
          "output_type": "stream",
          "name": "stdout",
          "text": [
            "tensor: [[[1 2]\n",
            "  [3 4]\n",
            "  [4 5]]]\n"
          ]
        }
      ]
    },
    {
      "cell_type": "markdown",
      "source": [
        "properties of array"
      ],
      "metadata": {
        "id": "9gnmdH3AIpip"
      }
    },
    {
      "cell_type": "code",
      "source": [
        "arr = np.array([[1,2,3],\n",
        " [4,5,6]])\n",
        "print(\"array shape:\", arr.shape)\n",
        "print(\"dimensions:\", arr.ndim)\n",
        "print(\"size:\", arr.size)\n",
        "print(\"data type:\", arr.dtype)"
      ],
      "metadata": {
        "colab": {
          "base_uri": "https://localhost:8080/"
        },
        "id": "zcat0RK_IsQZ",
        "outputId": "92cfce55-6fc4-4128-b53e-deee17891328"
      },
      "execution_count": 26,
      "outputs": [
        {
          "output_type": "stream",
          "name": "stdout",
          "text": [
            "array shape: (2, 3)\n",
            "dimensions: 2\n",
            "size: 6\n",
            "data type: int64\n"
          ]
        }
      ]
    },
    {
      "cell_type": "markdown",
      "source": [
        "array reshaping"
      ],
      "metadata": {
        "id": "7WOCcCmyJlrm"
      }
    },
    {
      "cell_type": "code",
      "source": [
        "arr = np.arange(12)\n",
        "print(\"original array\", arr)\n",
        "reshaped = arr.reshape((3,4))\n",
        "print(\"\\n reshaped array\", reshaped)\n",
        "\n",
        "flatttened = reshaped.flatten()\n",
        "print(\"\\n flattened array\", flatttened)\n",
        "\n",
        "# revel (returns view instead of copy)\n",
        "raveled = reshaped.ravel()\n",
        "print(\"\\n raveled array\", raveled)\n",
        "\n",
        "# transpose\n",
        "transposed = reshaped.T\n",
        "print(\"\\n transposed array\", transposed)"
      ],
      "metadata": {
        "colab": {
          "base_uri": "https://localhost:8080/"
        },
        "id": "NMUywhBQJnxK",
        "outputId": "f49aabac-3203-4933-e960-c68555d51bb2"
      },
      "execution_count": 33,
      "outputs": [
        {
          "output_type": "stream",
          "name": "stdout",
          "text": [
            "original array [ 0  1  2  3  4  5  6  7  8  9 10 11]\n",
            "\n",
            " reshaped array [[ 0  1  2  3]\n",
            " [ 4  5  6  7]\n",
            " [ 8  9 10 11]]\n",
            "\n",
            " flattened array [ 0  1  2  3  4  5  6  7  8  9 10 11]\n",
            "\n",
            " raveled array [ 0  1  2  3  4  5  6  7  8  9 10 11]\n",
            "\n",
            " transposed array [[ 0  4  8]\n",
            " [ 1  5  9]\n",
            " [ 2  6 10]\n",
            " [ 3  7 11]]\n"
          ]
        }
      ]
    },
    {
      "cell_type": "markdown",
      "source": [
        "PHASE 2 numpy array operations"
      ],
      "metadata": {
        "id": "zpqyjwpNPUbV"
      }
    },
    {
      "cell_type": "code",
      "source": [
        "import numpy as np\n",
        "\n",
        "\n",
        "arr = np.array([1,2,3,4,5,6,7,8,9,10])\n",
        "print(\"Basic Slicing:\\n\", arr[2:7])\n",
        "print(\"with step:\\n\", arr[1:8:2])\n",
        "print(\"negative indexing:\\n\", arr[-3])"
      ],
      "metadata": {
        "colab": {
          "base_uri": "https://localhost:8080/"
        },
        "id": "uteaSNL4PW8q",
        "outputId": "e971267f-a398-4281-a71c-87be504cfdd5"
      },
      "execution_count": 62,
      "outputs": [
        {
          "output_type": "stream",
          "name": "stdout",
          "text": [
            "Basic Slicing:\n",
            " [3 4 5 6 7]\n",
            "with step:\n",
            " [2 4 6 8]\n",
            "negative indexing:\n",
            " 8\n"
          ]
        }
      ]
    },
    {
      "cell_type": "code",
      "source": [
        "arr_2d = np.array([[1,2,3],\n",
        "                   [4,5,6],\n",
        "                   [7,8,9]])\n",
        "print(\"specific element: \\n\", arr_2d[1,2])\n",
        "print(\"entire row:\\n\", arr_2d[1])\n",
        "print(\"entire column:\\n\", arr_2d[:,1]) # targetting column"
      ],
      "metadata": {
        "colab": {
          "base_uri": "https://localhost:8080/"
        },
        "id": "1mmiBg2aQK8h",
        "outputId": "601070b7-1422-4e45-b08f-00bd94d6447c"
      },
      "execution_count": 61,
      "outputs": [
        {
          "output_type": "stream",
          "name": "stdout",
          "text": [
            "specific element: \n",
            " 6\n",
            "entire row:\n",
            " [4 5 6]\n",
            "entire column:\n",
            " [2 5 8]\n"
          ]
        }
      ]
    },
    {
      "cell_type": "markdown",
      "source": [
        "sorting"
      ],
      "metadata": {
        "id": "uVNyikLURL42"
      }
    },
    {
      "cell_type": "code",
      "source": [
        "unsorted = np.array([3,1,4,1,5,9,2,6])\n",
        "print(\"Sorted array: \\n\", np.sort(unsorted))\n",
        "\n",
        "arr_2d_unsorted = np.array([[3,1],[1,2],[2,3]])\n",
        "print(\"sorted 2d array by column: \\n\", np.sort(arr_2d_unsorted, axis=1))"
      ],
      "metadata": {
        "colab": {
          "base_uri": "https://localhost:8080/"
        },
        "id": "SdqftkySRPiS",
        "outputId": "129d1220-377b-470b-f9bb-ce555392c98f"
      },
      "execution_count": 60,
      "outputs": [
        {
          "output_type": "stream",
          "name": "stdout",
          "text": [
            "Sorted array: \n",
            " [1 1 2 3 4 5 6 9]\n",
            "sorted 2d array by column: \n",
            " [[1 3]\n",
            " [1 2]\n",
            " [2 3]]\n"
          ]
        }
      ]
    },
    {
      "cell_type": "markdown",
      "source": [
        "filtering"
      ],
      "metadata": {
        "id": "dDcRANXWS_WG"
      }
    },
    {
      "cell_type": "code",
      "source": [
        "numbers = np.array([1,2,3,4,5,6,7,8,9,10])\n",
        "even_number = numbers[numbers % 2 == 0]\n",
        "print(\"Even Numbers: \\n\", even_number)"
      ],
      "metadata": {
        "colab": {
          "base_uri": "https://localhost:8080/"
        },
        "id": "vRHGPOlhTBZS",
        "outputId": "8a325e1b-ec4d-4d23-f40a-eeae59e5e883"
      },
      "execution_count": 59,
      "outputs": [
        {
          "output_type": "stream",
          "name": "stdout",
          "text": [
            "Even Numbers: \n",
            " [ 2  4  6  8 10]\n"
          ]
        }
      ]
    },
    {
      "cell_type": "markdown",
      "source": [
        "filter with mask"
      ],
      "metadata": {
        "id": "gm29WMfzTxod"
      }
    },
    {
      "cell_type": "code",
      "source": [
        "mask = numbers > 5\n",
        "print(\"Numbers greater than 5:\\n\", numbers[mask])"
      ],
      "metadata": {
        "colab": {
          "base_uri": "https://localhost:8080/"
        },
        "id": "4uurW6t6TzOV",
        "outputId": "2e07af5f-008b-4a00-a4e8-f84ce194f10f"
      },
      "execution_count": 58,
      "outputs": [
        {
          "output_type": "stream",
          "name": "stdout",
          "text": [
            "Numbers greater than 5:\n",
            " [ 6  7  8  9 10]\n"
          ]
        }
      ]
    },
    {
      "cell_type": "markdown",
      "source": [
        "Fancy indexing vs np.where()"
      ],
      "metadata": {
        "id": "nRTua-TuULxv"
      }
    },
    {
      "cell_type": "code",
      "source": [
        "indices = [0,2,4]\n",
        "print(numbers[indices])\n",
        "\n",
        "where_result = np.where(numbers > 5)\n",
        "print(\" NP where: \\n\", numbers[where_result])"
      ],
      "metadata": {
        "colab": {
          "base_uri": "https://localhost:8080/"
        },
        "id": "GIC2motNUKys",
        "outputId": "d61b2b64-ab5a-494f-be2d-0fba2ad7586c"
      },
      "execution_count": 57,
      "outputs": [
        {
          "output_type": "stream",
          "name": "stdout",
          "text": [
            "[1 3 5]\n",
            " NP where: \n",
            " [ 6  7  8  9 10]\n"
          ]
        }
      ]
    },
    {
      "cell_type": "code",
      "source": [
        "condition_array = np.where(numbers > 5, numbers*2, numbers) # condition,true part,false part\n",
        "print(condition_array)"
      ],
      "metadata": {
        "colab": {
          "base_uri": "https://localhost:8080/"
        },
        "id": "AGQiBynIYGKB",
        "outputId": "fb965218-449c-401a-8897-47bc292d4384"
      },
      "execution_count": 63,
      "outputs": [
        {
          "output_type": "stream",
          "name": "stdout",
          "text": [
            "[ 1  2  3  4  5 12 14 16 18 20]\n"
          ]
        }
      ]
    },
    {
      "cell_type": "markdown",
      "source": [
        "Adding and Removing Data"
      ],
      "metadata": {
        "id": "-6uTzb8nZC-p"
      }
    },
    {
      "cell_type": "code",
      "source": [
        "arr1 = np.array([1,2,3])\n",
        "arr2 = np.array([4,5,6])\n",
        "concatenated = np.concatenate((arr1,arr2))\n",
        "print(\"concatenated array: \\n\", concatenated)"
      ],
      "metadata": {
        "colab": {
          "base_uri": "https://localhost:8080/"
        },
        "id": "lXfJrPJKZHhH",
        "outputId": "a3a18273-daeb-4330-f791-17183740d0ec"
      },
      "execution_count": 64,
      "outputs": [
        {
          "output_type": "stream",
          "name": "stdout",
          "text": [
            "concatenated array: \n",
            " [1 2 3 4 5 6]\n"
          ]
        }
      ]
    },
    {
      "cell_type": "code",
      "source": [
        "arr1 = np.array([1,2,3])\n",
        "arr2 = np.array([4,5,6])\n",
        "add = arr1 + arr2\n",
        "print(add)"
      ],
      "metadata": {
        "colab": {
          "base_uri": "https://localhost:8080/"
        },
        "id": "aFTCuZD_ZUVM",
        "outputId": "5ea8cb4b-2b23-4f7c-f25f-ddbb58e20bf2"
      },
      "execution_count": 66,
      "outputs": [
        {
          "output_type": "stream",
          "name": "stdout",
          "text": [
            "[5 7 9]\n"
          ]
        }
      ]
    },
    {
      "cell_type": "markdown",
      "source": [
        "array compatibility"
      ],
      "metadata": {
        "id": "6uUmKPijZtg9"
      }
    },
    {
      "cell_type": "code",
      "source": [
        "a = np.array([1,2,3])\n",
        "b = np.array([4,5,6])\n",
        "c = np.array([7,8,9])\n",
        "\n",
        "print(\"compatibility shapes\", a.shape == b.shape)\n"
      ],
      "metadata": {
        "colab": {
          "base_uri": "https://localhost:8080/"
        },
        "id": "Z6KmBlITZ2Qf",
        "outputId": "34950976-f00e-46d7-e522-b8ceb39dadfd"
      },
      "execution_count": 67,
      "outputs": [
        {
          "output_type": "stream",
          "name": "stdout",
          "text": [
            "compatibility shapes True\n"
          ]
        }
      ]
    },
    {
      "cell_type": "code",
      "source": [
        "a = np.array([1,2,3])\n",
        "b = np.array([4,5,6,7])\n",
        "c = np.array([7,8,9])\n",
        "\n",
        "print(\"compatibility shapes\", a.shape == b.shape)"
      ],
      "metadata": {
        "colab": {
          "base_uri": "https://localhost:8080/"
        },
        "id": "jjOobxEkaYzH",
        "outputId": "1a5470d4-efb0-4222-91f2-50cab675973b"
      },
      "execution_count": 68,
      "outputs": [
        {
          "output_type": "stream",
          "name": "stdout",
          "text": [
            "compatibility shapes False\n"
          ]
        }
      ]
    },
    {
      "cell_type": "code",
      "source": [
        "original = np.array([[1,2],[3,4]])\n",
        "new_row = np.array([[5,6]])\n",
        "\n",
        "with_new_row = np.vstack((original, new_row))  # vstack adds a new row\n",
        "print(original)\n",
        "print(\"with new row: \\n\", with_new_row)\n",
        "\n",
        "new_col = np.array([[7],[8]])\n",
        "with_new_col = np.hstack((original,new_col)) #hstack adds a new column\n",
        "print(original)\n",
        "print(\"with new col: \\n\", with_new_col)"
      ],
      "metadata": {
        "colab": {
          "base_uri": "https://localhost:8080/"
        },
        "id": "xHpTGV2magGa",
        "outputId": "b1af8c97-bef4-4f22-d736-c7f613cd75d3"
      },
      "execution_count": 70,
      "outputs": [
        {
          "output_type": "stream",
          "name": "stdout",
          "text": [
            "[[1 2]\n",
            " [3 4]]\n",
            "with new row: \n",
            " [[1 2]\n",
            " [3 4]\n",
            " [5 6]]\n",
            "[[1 2]\n",
            " [3 4]]\n",
            "with new col: \n",
            " [[1 2 7]\n",
            " [3 4 8]]\n"
          ]
        }
      ]
    },
    {
      "cell_type": "code",
      "source": [
        "arr = np.array([1,2,3,4,5])\n",
        "deleted = np.delete(arr,2) # pass the index of the item to be deleted\n",
        "print(\"array after deletion:\\n\",deleted)"
      ],
      "metadata": {
        "colab": {
          "base_uri": "https://localhost:8080/"
        },
        "id": "ii5uOCptcXr0",
        "outputId": "fdabed6e-55c2-477b-cdac-7a28476ac8fc"
      },
      "execution_count": 74,
      "outputs": [
        {
          "output_type": "stream",
          "name": "stdout",
          "text": [
            "array after deletion:\n",
            " [1 2 4 5]\n"
          ]
        }
      ]
    },
    {
      "cell_type": "markdown",
      "source": [
        "PHASE 3"
      ],
      "metadata": {
        "id": "WzT-jfTZdMaj"
      }
    },
    {
      "cell_type": "code",
      "source": [
        "import numpy as np\n",
        "import matplotlib.pyplot as plt\n",
        "\n",
        "# Data structure: [restraunt_id, 2021, 2022, 2023, 2024]\n",
        "sales_data = np.array([\n",
        "[1,150000,180000, 220000, 250000], #Paradise Biryani\n",
        "[2,120000,140000,160000,190000], # Beijing Bites\n",
        "[3,200000,230000,230000,300000], # Pizza Hub\n",
        "[4,180000,210000,240000,270000], # Burger point\n",
        "[5,160000, 185000, 205000, 230000] # chai point\n",
        "])\n",
        "\n",
        "print(\"=== Zomato Sales analysis ===\")\n",
        "print(\"\\n sales data shape:\\n\", sales_data.shape)\n",
        "print(\"\\n sample data for 1st 3 restraunt:\\n\", sales_data[0:3])\n",
        "print(\"\\n remove first column:\\n\", sales_data[0:,1:])"
      ],
      "metadata": {
        "colab": {
          "base_uri": "https://localhost:8080/"
        },
        "id": "vqxG3JGAdOT0",
        "outputId": "1437fccf-3055-4313-ade8-ba5f17f7ae73"
      },
      "execution_count": 82,
      "outputs": [
        {
          "output_type": "stream",
          "name": "stdout",
          "text": [
            "=== Zomato Sales analysis ===\n",
            "\n",
            " sales data shape:\n",
            " (5, 5)\n",
            "\n",
            " sample data for 1st 3 restraunt:\n",
            " [[     1 150000 180000 220000 250000]\n",
            " [     2 120000 140000 160000 190000]\n",
            " [     3 200000 230000 230000 300000]]\n",
            "\n",
            " remove first column:\n",
            " [[150000 180000 220000 250000]\n",
            " [120000 140000 160000 190000]\n",
            " [200000 230000 230000 300000]\n",
            " [180000 210000 240000 270000]\n",
            " [160000 185000 205000 230000]]\n"
          ]
        }
      ]
    },
    {
      "cell_type": "code",
      "source": [
        "# total sales per year\n",
        "print(np.sum(sales_data, axis = 0)) # all numbers from first column are added\n",
        "yearly_total = np.sum(sales_data[:, 1:], axis=0)\n",
        "print(\"yearly total:\\n\",yearly_total)\n",
        "#axis=0 → Operate down the rows (column-wise operation)\n",
        "#axis=1 → Operate across the columns (row-wise operation)\n",
        "#axis=0 → vertical movement ↓ (affects columns)\n",
        "#axis=1 → horizontal movement → (affects rows)\n",
        "\n",
        "#minimum sales per restaurant\n",
        "min_sales = np.min(sales_data[:, 1:], axis = 1)\n",
        "print(\"min sale:\\n\",min_sales)\n",
        "\n",
        "#maximum sales per year\n",
        "max_sales = np.max(sales_data[:, 1:], axis = 0)\n",
        "print(\"max sale per year:\\n\",max_sales)\n",
        "\n",
        "# max sales per restraunt\n",
        "max_sales = np.max(sales_data[:, 1:], axis =1)\n",
        "print(\"max sale:\\n\",max_sales)\n",
        "\n",
        "\n",
        "#Average sales per restaurant\n",
        "avg_sales = np.mean(sales_data[:, 1:], axis = 1)\n",
        "print(\"avg sale:\\n\",avg_sales)"
      ],
      "metadata": {
        "colab": {
          "base_uri": "https://localhost:8080/"
        },
        "id": "Ywztqy7egsac",
        "outputId": "85bb6399-ced2-4caf-d819-1bc9e2b15396"
      },
      "execution_count": 91,
      "outputs": [
        {
          "output_type": "stream",
          "name": "stdout",
          "text": [
            "[     15  810000  945000 1055000 1240000]\n",
            "yearly total:\n",
            " [ 810000  945000 1055000 1240000]\n",
            "min sale:\n",
            " [150000 120000 200000 180000 160000]\n",
            "max sale per year:\n",
            " [200000 230000 240000 300000]\n",
            "max sale:\n",
            " [250000 190000 300000 270000 230000]\n",
            "avg sale:\n",
            " [200000. 152500. 240000. 225000. 195000.]\n"
          ]
        }
      ]
    },
    {
      "cell_type": "code",
      "source": [
        "cummulative_sum = np.cumsum(sales_data[:, 1:], axis = 1)\n",
        "print(\"cummulative sum:\\n\", cummulative_sum)\n",
        "plt.figure(figsize=(8,6))\n",
        "plt.plot(np.mean(cummulative_sum, axis=0))\n",
        "plt.title(\"avg cummulative sales across all restraurant\")\n",
        "plt.xlabel(\"Years\")\n",
        "plt.ylabel(\"Sales\")\n",
        "plt.grid(True)\n",
        "plt.show"
      ],
      "metadata": {
        "colab": {
          "base_uri": "https://localhost:8080/",
          "height": 837
        },
        "id": "CwZXCDxqmGkX",
        "outputId": "cce3ae4b-0768-4921-82e4-a7f97ecf8500"
      },
      "execution_count": 94,
      "outputs": [
        {
          "output_type": "stream",
          "name": "stdout",
          "text": [
            "cummulative sum:\n",
            " [[150000 330000 550000 800000]\n",
            " [120000 260000 420000 610000]\n",
            " [200000 430000 660000 960000]\n",
            " [180000 390000 630000 900000]\n",
            " [160000 345000 550000 780000]]\n"
          ]
        },
        {
          "output_type": "execute_result",
          "data": {
            "text/plain": [
              "<function matplotlib.pyplot.show(close=None, block=None)>"
            ],
            "text/html": [
              "<div style=\"max-width:800px; border: 1px solid var(--colab-border-color);\"><style>\n",
              "      pre.function-repr-contents {\n",
              "        overflow-x: auto;\n",
              "        padding: 8px 12px;\n",
              "        max-height: 500px;\n",
              "      }\n",
              "\n",
              "      pre.function-repr-contents.function-repr-contents-collapsed {\n",
              "        cursor: pointer;\n",
              "        max-height: 100px;\n",
              "      }\n",
              "    </style>\n",
              "    <pre style=\"white-space: initial; background:\n",
              "         var(--colab-secondary-surface-color); padding: 8px 12px;\n",
              "         border-bottom: 1px solid var(--colab-border-color);\"><b>matplotlib.pyplot.show</b><br/>def show(*args, **kwargs) -&gt; None</pre><pre class=\"function-repr-contents function-repr-contents-collapsed\" style=\"\"><a class=\"filepath\" style=\"display:none\" href=\"#\">/usr/local/lib/python3.11/dist-packages/matplotlib/pyplot.py</a>Display all open figures.\n",
              "\n",
              "Parameters\n",
              "----------\n",
              "block : bool, optional\n",
              "    Whether to wait for all figures to be closed before returning.\n",
              "\n",
              "    If `True` block and run the GUI main loop until all figure windows\n",
              "    are closed.\n",
              "\n",
              "    If `False` ensure that all figure windows are displayed and return\n",
              "    immediately.  In this case, you are responsible for ensuring\n",
              "    that the event loop is running to have responsive figures.\n",
              "\n",
              "    Defaults to True in non-interactive mode and to False in interactive\n",
              "    mode (see `.pyplot.isinteractive`).\n",
              "\n",
              "See Also\n",
              "--------\n",
              "ion : Enable interactive mode, which shows / updates the figure after\n",
              "      every plotting command, so that calling ``show()`` is not necessary.\n",
              "ioff : Disable interactive mode.\n",
              "savefig : Save the figure to an image file instead of showing it on screen.\n",
              "\n",
              "Notes\n",
              "-----\n",
              "**Saving figures to file and showing a window at the same time**\n",
              "\n",
              "If you want an image file as well as a user interface window, use\n",
              "`.pyplot.savefig` before `.pyplot.show`. At the end of (a blocking)\n",
              "``show()`` the figure is closed and thus unregistered from pyplot. Calling\n",
              "`.pyplot.savefig` afterwards would save a new and thus empty figure. This\n",
              "limitation of command order does not apply if the show is non-blocking or\n",
              "if you keep a reference to the figure and use `.Figure.savefig`.\n",
              "\n",
              "**Auto-show in jupyter notebooks**\n",
              "\n",
              "The jupyter backends (activated via ``%matplotlib inline``,\n",
              "``%matplotlib notebook``, or ``%matplotlib widget``), call ``show()`` at\n",
              "the end of every cell by default. Thus, you usually don&#x27;t have to call it\n",
              "explicitly there.</pre>\n",
              "      <script>\n",
              "      if (google.colab.kernel.accessAllowed && google.colab.files && google.colab.files.view) {\n",
              "        for (const element of document.querySelectorAll('.filepath')) {\n",
              "          element.style.display = 'block'\n",
              "          element.onclick = (event) => {\n",
              "            event.preventDefault();\n",
              "            event.stopPropagation();\n",
              "            google.colab.files.view(element.textContent, 569);\n",
              "          };\n",
              "        }\n",
              "      }\n",
              "      for (const element of document.querySelectorAll('.function-repr-contents')) {\n",
              "        element.onclick = (event) => {\n",
              "          event.preventDefault();\n",
              "          event.stopPropagation();\n",
              "          element.classList.toggle('function-repr-contents-collapsed');\n",
              "        };\n",
              "      }\n",
              "      </script>\n",
              "      </div>"
            ]
          },
          "metadata": {},
          "execution_count": 94
        },
        {
          "output_type": "display_data",
          "data": {
            "text/plain": [
              "<Figure size 800x600 with 1 Axes>"
            ],
            "image/png": "[encoded data removed]"
          },
          "metadata": {}
        }
      ]
    },
    {
      "cell_type": "code",
      "source": [
        "vector1 = np.array([1,2,3,4,5])\n",
        "vector2 = np.array([6,7,8,9,10])\n",
        "\n",
        "print(\"vector addition:\\n\", vector1 + vector2)\n",
        "print(\"vector subtraction:\\n\", vector1 - vector2)\n",
        "print(\"vector multiplication:\\n\", vector1 * vector2)\n",
        "print(\"vector division:\\n\", vector1 / vector2)\n",
        "print(\"vector dot product:\\n\", np.dot(vector1, vector2))\n",
        "angle = np.arccos(np.dot(vector1, vector2) / (np.linalg.norm(vector1) * np.linalg.norm(vector2)))\n",
        "print(\"angle between vectors:\\n\", np.degrees(angle))"
      ],
      "metadata": {
        "colab": {
          "base_uri": "https://localhost:8080/"
        },
        "id": "sujD4Rpand8I",
        "outputId": "3b886abd-073e-4c6a-a3ee-43178946cbb7"
      },
      "execution_count": 98,
      "outputs": [
        {
          "output_type": "stream",
          "name": "stdout",
          "text": [
            "vector addition:\n",
            " [ 7  9 11 13 15]\n",
            "vector subtraction:\n",
            " [-5 -5 -5 -5 -5]\n",
            "vector multiplication:\n",
            " [ 6 14 24 36 50]\n",
            "vector division:\n",
            " [0.16666667 0.28571429 0.375      0.44444444 0.5       ]\n",
            "vector dot product:\n",
            " 130\n",
            "angle between vectors:\n",
            " 15.214413958603176\n"
          ]
        }
      ]
    },
    {
      "cell_type": "code",
      "source": [
        "restraunt_types = np.array(['Paradise Biryani', 'Beijing Bites', 'Pizza Hub', 'Burger Point', 'Chai Point'])\n",
        "vectorized_upper = np.vectorize(str.upper) # used to perform function with each item\n",
        "print(\"upper case:\\n\", vectorized_upper(restraunt_types))"
      ],
      "metadata": {
        "colab": {
          "base_uri": "https://localhost:8080/"
        },
        "id": "vMH_q6C5pI-H",
        "outputId": "7027ecd3-e212-49ce-f02d-062bb0f5ca4e"
      },
      "execution_count": 99,
      "outputs": [
        {
          "output_type": "stream",
          "name": "stdout",
          "text": [
            "upper case:\n",
            " ['PARADISE BIRYANI' 'BEIJING BITES' 'PIZZA HUB' 'BURGER POINT'\n",
            " 'CHAI POINT']\n"
          ]
        }
      ]
    },
    {
      "cell_type": "code",
      "source": [
        "monthly_avg = sales_data[:, 1:]/12\n",
        "print(\"monthly avg:\\n\", monthly_avg)"
      ],
      "metadata": {
        "colab": {
          "base_uri": "https://localhost:8080/"
        },
        "id": "sCzk0BhsqbFL",
        "outputId": "61d52046-5502-47dd-a43d-1ae2f6555798"
      },
      "execution_count": 100,
      "outputs": [
        {
          "output_type": "stream",
          "name": "stdout",
          "text": [
            "monthly avg:\n",
            " [[12500.         15000.         18333.33333333 20833.33333333]\n",
            " [10000.         11666.66666667 13333.33333333 15833.33333333]\n",
            " [16666.66666667 19166.66666667 19166.66666667 25000.        ]\n",
            " [15000.         17500.         20000.         22500.        ]\n",
            " [13333.33333333 15416.66666667 17083.33333333 19166.66666667]]\n"
          ]
        }
      ]
    },
    {
      "cell_type": "markdown",
      "source": [
        "PHASE 4"
      ],
      "metadata": {
        "id": "4sPGcKeF2Tjt"
      }
    },
    {
      "cell_type": "code",
      "source": [
        "import numpy as np\n",
        "import matplotlib.pyplot as plt\n",
        "\n",
        "array1 = np.array([[1,2,3],[4,5,6]])\n",
        "array2 = np.random.rand(3,3)\n",
        "array3 = np.zeros((4,4))"
      ],
      "metadata": {
        "id": "oQNTv4iF2WFX"
      },
      "execution_count": 104,
      "outputs": []
    },
    {
      "cell_type": "code",
      "source": [
        "np.save('array1.npy', array1)\n",
        "np.save('array2.npy', array2)\n",
        "np.save('array3.npy', array3)"
      ],
      "metadata": {
        "id": "7s5zRGdu4PCG"
      },
      "execution_count": 134,
      "outputs": []
    },
    {
      "cell_type": "code",
      "source": [
        "loaded_array1 = np.load('array1.npy')\n",
        "print(loaded_array1)\n"
      ],
      "metadata": {
        "colab": {
          "base_uri": "https://localhost:8080/"
        },
        "id": "v13CMCEq4hQF",
        "outputId": "cc74c16a-e361-4e25-99cb-ccd972777ebb"
      },
      "execution_count": 135,
      "outputs": [
        {
          "output_type": "stream",
          "name": "stdout",
          "text": [
            "[[1 2 3]\n",
            " [4 5 6]]\n"
          ]
        }
      ]
    },
    {
      "cell_type": "code",
      "source": [
        "import numpy as np\n",
        "import matplotlib.pyplot as plt\n",
        "\n",
        "# Remove the code that caused the FileNotFoundError\n",
        "try:\n",
        "  logo = np.load('numpy_logo.npy')\n",
        "  # Display\n",
        "  plt.figure(figsize=(10,5))\n",
        "  plt.subplot(121)\n",
        "  plt.imshow(logo)\n",
        "  plt.title(\"Numpy Logo\")\n",
        "  plt.grid(False)\n",
        "\n",
        "  dark_logo = 1-logo\n",
        "\n",
        "  plt.subplot(122)\n",
        "  plt.imshow(dark_logo)\n",
        "  plt.title(\"Dark Numpy Logo\")\n",
        "  plt.grid(False)\n",
        "\n",
        "  plt.show()\n",
        "\n",
        "except FileNotFoundError:\n",
        "  print(\"numpy logo file not found\")\n",
        "\n",
        "# The markdown syntax for the image should be in a markdown cell.\n",
        "# ![Alt text for the image](https://www.onlinemathlearning.com/image-files/matrix.png)"
      ],
      "metadata": {
        "colab": {
          "base_uri": "https://localhost:8080/"
        },
        "id": "BOe90y1q5ojS",
        "outputId": "ca9c27ce-98d0-48ad-f0d2-a543dd264c2c"
      },
      "execution_count": 133,
      "outputs": [
        {
          "output_type": "stream",
          "name": "stdout",
          "text": [
            "numpy logo file not found\n"
          ]
        }
      ]
    },
    {
      "cell_type": "markdown",
      "metadata": {
        "id": "0335ed48"
      },
      "source": [
        "![Alt text for the image](https://www.onlinemathlearning.com/image-files/matrix.png)"
      ]
    }
  ]
}